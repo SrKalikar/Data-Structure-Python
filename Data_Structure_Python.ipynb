{
  "nbformat": 4,
  "nbformat_minor": 0,
  "metadata": {
    "colab": {
      "name": "Data-Structure-Python.ipynb",
      "provenance": [],
      "authorship_tag": "ABX9TyN/mvwQNLA4XBa87FJRoG4d",
      "include_colab_link": true
    },
    "kernelspec": {
      "name": "python3",
      "display_name": "Python 3"
    },
    "language_info": {
      "name": "python"
    }
  },
  "cells": [
    {
      "cell_type": "markdown",
      "metadata": {
        "id": "view-in-github",
        "colab_type": "text"
      },
      "source": [
        "<a href=\"https://colab.research.google.com/github/SrKalikar/Data-Structure-Python/blob/main/Data_Structure_Python.ipynb\" target=\"_parent\"><img src=\"https://colab.research.google.com/assets/colab-badge.svg\" alt=\"Open In Colab\"/></a>"
      ]
    },
    {
      "cell_type": "markdown",
      "metadata": {
        "id": "NpNjgGyX9Nbh"
      },
      "source": [
        "Basics"
      ]
    },
    {
      "cell_type": "code",
      "metadata": {
        "id": "YFHbM9yV9HRv"
      },
      "source": [
        "#Dictonary Operation's\n",
        "Customer = {\n",
        "    \"name1\":\"shubham\",\n",
        "    \"number1\":54562,\n",
        "    \"address1\":\"Pune\",\n",
        "    \n",
        "    \"name\":\"Ritesh\",\n",
        "    \"number\":54651,\n",
        "     \"address\":\"Mumbai\"\n",
        "   \n",
        "}"
      ],
      "execution_count": null,
      "outputs": []
    },
    {
      "cell_type": "code",
      "metadata": {
        "colab": {
          "base_uri": "https://localhost:8080/"
        },
        "id": "WnBlxt6VAHdu",
        "outputId": "74012d72-9ec2-49cd-a8ad-7a7c8df0eaf2"
      },
      "source": [
        "Customer[\"number\"] "
      ],
      "execution_count": null,
      "outputs": [
        {
          "output_type": "execute_result",
          "data": {
            "text/plain": [
              "54651"
            ]
          },
          "metadata": {
            "tags": []
          },
          "execution_count": 13
        }
      ]
    },
    {
      "cell_type": "code",
      "metadata": {
        "id": "eAWVANqdAUtH"
      },
      "source": [
        "numbers = {num: num ** 2 for num in range(12)}"
      ],
      "execution_count": null,
      "outputs": []
    },
    {
      "cell_type": "code",
      "metadata": {
        "id": "yDGueBt6Bz_e"
      },
      "source": [
        "numbers"
      ],
      "execution_count": null,
      "outputs": []
    },
    {
      "cell_type": "markdown",
      "metadata": {
        "id": "ylUT44JeC06D"
      },
      "source": [
        "Newly introduced Collection library in python."
      ]
    },
    {
      "cell_type": "code",
      "metadata": {
        "id": "RfK_COlEB1P9"
      },
      "source": [
        "import collections\n",
        "example = collections.OrderedDict(number1 = 12, number2 = 24, number3 = 54)"
      ],
      "execution_count": null,
      "outputs": []
    },
    {
      "cell_type": "code",
      "metadata": {
        "colab": {
          "base_uri": "https://localhost:8080/"
        },
        "id": "DwBUSs3LDQaL",
        "outputId": "11e13a8d-1c16-4ed6-a3d8-c48d4faa4e8a"
      },
      "source": [
        "print(example[\"number3\"])\n",
        "print(example.keys())\n",
        "print(example.values())\n",
        "example"
      ],
      "execution_count": null,
      "outputs": [
        {
          "output_type": "stream",
          "text": [
            "54\n",
            "odict_keys(['number1', 'number2', 'number3'])\n",
            "odict_values([12, 24, 54])\n"
          ],
          "name": "stdout"
        },
        {
          "output_type": "execute_result",
          "data": {
            "text/plain": [
              "OrderedDict([('number1', 12), ('number2', 24), ('number3', 54)])"
            ]
          },
          "metadata": {
            "tags": []
          },
          "execution_count": 26
        }
      ]
    },
    {
      "cell_type": "code",
      "metadata": {
        "colab": {
          "base_uri": "https://localhost:8080/"
        },
        "id": "TSdBY61xDRkQ",
        "outputId": "784c4ed9-4000-4824-816a-2645d4aebcb3"
      },
      "source": [
        "example.pop(\"number1\")\n"
      ],
      "execution_count": null,
      "outputs": [
        {
          "output_type": "execute_result",
          "data": {
            "text/plain": [
              "12"
            ]
          },
          "metadata": {
            "tags": []
          },
          "execution_count": 28
        }
      ]
    },
    {
      "cell_type": "code",
      "metadata": {
        "colab": {
          "base_uri": "https://localhost:8080/"
        },
        "id": "I0Vk_2TUEJgS",
        "outputId": "cecd413f-29e9-4d25-80db-678a6372d6f1"
      },
      "source": [
        "example"
      ],
      "execution_count": null,
      "outputs": [
        {
          "output_type": "execute_result",
          "data": {
            "text/plain": [
              "OrderedDict([('number2', 24), ('number3', 54)])"
            ]
          },
          "metadata": {
            "tags": []
          },
          "execution_count": 29
        }
      ]
    },
    {
      "cell_type": "code",
      "metadata": {
        "id": "eWl0nTzpEOUh"
      },
      "source": [
        "from collections import defaultdict\n",
        "person_list = defaultdict(list)\n",
        "person_list[\"person\"].append(\"Shubham\")\n",
        "person_list[\"person\"].append(\"Ram\")\n",
        "person_list[\"person\"].append(\"Baburao\")\n",
        "person_list[\"person\"].append(\"Raju\")\n",
        "person_list[\"person\"].append(\"KachraSeth\")"
      ],
      "execution_count": null,
      "outputs": []
    },
    {
      "cell_type": "markdown",
      "metadata": {
        "id": "q-W2QMzRGMOq"
      },
      "source": [
        "By using above function we can append items with an ease into list"
      ]
    },
    {
      "cell_type": "code",
      "metadata": {
        "colab": {
          "base_uri": "https://localhost:8080/"
        },
        "id": "kTYN77VcEVMO",
        "outputId": "08a5cbce-4efe-492b-e0a1-becb92b8b7aa"
      },
      "source": [
        "person_list[\"person\"]"
      ],
      "execution_count": null,
      "outputs": [
        {
          "output_type": "execute_result",
          "data": {
            "text/plain": [
              "['Shubham', 'Ram', 'Baburao', 'Raju', 'KachraSeth']"
            ]
          },
          "metadata": {
            "tags": []
          },
          "execution_count": 35
        }
      ]
    },
    {
      "cell_type": "code",
      "metadata": {
        "colab": {
          "base_uri": "https://localhost:8080/"
        },
        "id": "lQ6y-HSNFdli",
        "outputId": "dbf6742a-4d53-43cd-ff64-854b78590714"
      },
      "source": [
        "from collections import ChainMap\n",
        "dict1 = {\"firstname\":\"Raju\",\"address\":\"Borivali\",\"Owner\":\"Baburao\"}\n",
        "dict2 = {\"name\":\"Shyam\",\"address\":\"Borivali\",\"Owner\":\"Baburao\"}\n",
        "adding_two = ChainMap(dict1,dict2)\n",
        "adding_two"
      ],
      "execution_count": null,
      "outputs": [
        {
          "output_type": "execute_result",
          "data": {
            "text/plain": [
              "ChainMap({'firstname': 'Raju', 'address': 'Borivali', 'Owner': 'Baburao'}, {'name': 'Shyam', 'address': 'Borivali', 'Owner': 'Baburao'})"
            ]
          },
          "metadata": {
            "tags": []
          },
          "execution_count": 36
        }
      ]
    },
    {
      "cell_type": "markdown",
      "metadata": {
        "id": "l6popdR9rgwa"
      },
      "source": [
        "Read Only Dictionary Type"
      ]
    },
    {
      "cell_type": "code",
      "metadata": {
        "id": "B4qyek11G8UJ",
        "colab": {
          "base_uri": "https://localhost:8080/"
        },
        "outputId": "376f132f-068b-4de7-c156-754c04ac7b96"
      },
      "source": [
        "from types import MappingProxyType\n",
        "set1 = {\"One\":1,\"Two\":2}\n",
        "conversion = MappingProxyType(set1)\n",
        "\n",
        "conversion[\"One\"] #it will give error when reply with key values."
      ],
      "execution_count": null,
      "outputs": [
        {
          "output_type": "execute_result",
          "data": {
            "text/plain": [
              "1"
            ]
          },
          "metadata": {
            "tags": []
          },
          "execution_count": 3
        }
      ]
    },
    {
      "cell_type": "code",
      "metadata": {
        "id": "xN1YxHUQsHvW"
      },
      "source": [
        "#now we will try to manipulate given dictionary\n",
        "set1[\"One\"] = 3542"
      ],
      "execution_count": null,
      "outputs": []
    },
    {
      "cell_type": "code",
      "metadata": {
        "colab": {
          "base_uri": "https://localhost:8080/"
        },
        "id": "5umIZmJkspYT",
        "outputId": "3c4d5bc4-5654-42a5-cdb2-ce54a8fd4f97"
      },
      "source": [
        "conversion[\"One\"]"
      ],
      "execution_count": null,
      "outputs": [
        {
          "output_type": "execute_result",
          "data": {
            "text/plain": [
              "3542"
            ]
          },
          "metadata": {
            "tags": []
          },
          "execution_count": 6
        }
      ]
    },
    {
      "cell_type": "code",
      "metadata": {
        "colab": {
          "base_uri": "https://localhost:8080/"
        },
        "id": "3to-Q7izs91p",
        "outputId": "a9f6119c-5cf7-49ae-8e66-c1819139ce37"
      },
      "source": [
        "conversion"
      ],
      "execution_count": null,
      "outputs": [
        {
          "output_type": "execute_result",
          "data": {
            "text/plain": [
              "mappingproxy({'One': 3542, 'Two': 2})"
            ]
          },
          "metadata": {
            "tags": []
          },
          "execution_count": 7
        }
      ]
    },
    {
      "cell_type": "markdown",
      "metadata": {
        "id": "usGcZAU1t9pI"
      },
      "source": [
        "list's are Dynamic arrays! and they are mutable!\n",
        "Mutable = Liable to change"
      ]
    },
    {
      "cell_type": "code",
      "metadata": {
        "colab": {
          "base_uri": "https://localhost:8080/"
        },
        "id": "2XMvAaKMtBv2",
        "outputId": "bdb53631-ee5e-4f70-9aec-77d5f72c6f22"
      },
      "source": [
        "names = [\"Shubham\",\"Nagesh\",\"Prasad\"]\n",
        "print(names)\n",
        "print(names[1]) #index numbers with square braces"
      ],
      "execution_count": null,
      "outputs": [
        {
          "output_type": "stream",
          "text": [
            "['Shubham', 'Nagesh', 'Prasad']\n",
            "Nagesh\n"
          ],
          "name": "stdout"
        }
      ]
    },
    {
      "cell_type": "markdown",
      "metadata": {
        "id": "2bzQKxbFu14V"
      },
      "source": [
        "Tuples are immutable.When use array.array. Array acts like mutable lists'\n",
        "\n",
        "---\n",
        "\n"
      ]
    },
    {
      "cell_type": "code",
      "metadata": {
        "colab": {
          "base_uri": "https://localhost:8080/"
        },
        "id": "6vxXDfPSuIgk",
        "outputId": "68471adb-3a97-430a-9e6c-2b92f128c9b9"
      },
      "source": [
        "num = bytes((1,2,3))\n",
        "num[1]\n",
        "print(num)\n",
        "#bytes has their own unique form."
      ],
      "execution_count": null,
      "outputs": [
        {
          "output_type": "stream",
          "text": [
            "b'\\x01\\x02\\x03'\n"
          ],
          "name": "stdout"
        }
      ]
    },
    {
      "cell_type": "code",
      "metadata": {
        "colab": {
          "base_uri": "https://localhost:8080/"
        },
        "id": "tqQFAziJvrIX",
        "outputId": "7498e6a2-5336-4c88-faa3-c0b0a0a6c69d"
      },
      "source": [
        "num_list = bytearray((11,12,13,14))\n",
        "num_list"
      ],
      "execution_count": null,
      "outputs": [
        {
          "output_type": "execute_result",
          "data": {
            "text/plain": [
              "bytearray(b'\\x0b\\x0c\\r\\x0e')"
            ]
          },
          "metadata": {
            "tags": []
          },
          "execution_count": 16
        }
      ]
    },
    {
      "cell_type": "code",
      "metadata": {
        "id": "dpaO4sKywLG9"
      },
      "source": [
        "num_list.append(41)"
      ],
      "execution_count": null,
      "outputs": []
    },
    {
      "cell_type": "code",
      "metadata": {
        "colab": {
          "base_uri": "https://localhost:8080/"
        },
        "id": "JcDD9w51wWvE",
        "outputId": "6c05a58b-1785-4b23-809b-8e175005a344"
      },
      "source": [
        "num_list"
      ],
      "execution_count": null,
      "outputs": [
        {
          "output_type": "execute_result",
          "data": {
            "text/plain": [
              "bytearray(b'\\x0b\\x0c\\r\\x0e)')"
            ]
          },
          "metadata": {
            "tags": []
          },
          "execution_count": 19
        }
      ]
    },
    {
      "cell_type": "code",
      "metadata": {
        "colab": {
          "base_uri": "https://localhost:8080/"
        },
        "id": "Nz8O7Az7wbeW",
        "outputId": "b05a7a74-4162-4c8c-cfad-50b0d6404a67"
      },
      "source": [
        "import dis\n",
        "dis.dis(compile(\"(23,'a','b','c')\",\"\",\"eval\"))"
      ],
      "execution_count": null,
      "outputs": [
        {
          "output_type": "stream",
          "text": [
            "  1           0 LOAD_CONST               0 ((23, 'a', 'b', 'c'))\n",
            "              2 RETURN_VALUE\n"
          ],
          "name": "stdout"
        }
      ]
    },
    {
      "cell_type": "code",
      "metadata": {
        "id": "RWS2qW71BkXL"
      },
      "source": [
        "#simple tuple description\n",
        "brand_names = (\"Ford\",\"Maruti-Suzuki\",\"Toyota\")"
      ],
      "execution_count": null,
      "outputs": []
    },
    {
      "cell_type": "code",
      "metadata": {
        "colab": {
          "base_uri": "https://localhost:8080/"
        },
        "id": "oRcC00TFCAB9",
        "outputId": "e0d7c2d2-785a-4dca-da2c-6abbe7d4d1fd"
      },
      "source": [
        "brand_names"
      ],
      "execution_count": null,
      "outputs": [
        {
          "output_type": "execute_result",
          "data": {
            "text/plain": [
              "('Ford', 'Maruti-Suzuki', 'Toyota')"
            ]
          },
          "metadata": {
            "tags": []
          },
          "execution_count": 22
        }
      ]
    },
    {
      "cell_type": "markdown",
      "metadata": {
        "id": "CTWcL7B-Clj9"
      },
      "source": [
        "Here will create a simple class to gain more control and feasibality over data."
      ]
    },
    {
      "cell_type": "code",
      "metadata": {
        "colab": {
          "base_uri": "https://localhost:8080/"
        },
        "id": "Fgbblp2BCBw8",
        "outputId": "2cfbe041-252e-415a-d5ba-a09dc6154039"
      },
      "source": [
        "class Objects:\n",
        "  def __init__(self,name,size,value):\n",
        "    self.name=name\n",
        "    self.size=size\n",
        "    self.value=value\n",
        "\n",
        "Objects(\"tABLE\",\"Mediocre\",225)\n",
        "number_2=Objects(\"Lamp\",\"Small\",567)\n",
        "number_2.size\n",
        "number_2.size=\"Big\"\n",
        "print(number_2.size)"
      ],
      "execution_count": null,
      "outputs": [
        {
          "output_type": "stream",
          "text": [
            "Big\n"
          ],
          "name": "stdout"
        }
      ]
    },
    {
      "cell_type": "markdown",
      "metadata": {
        "id": "UTFX5OhUE4x9"
      },
      "source": [
        "By using a wrapper we can make our code more readable and efficient."
      ]
    },
    {
      "cell_type": "code",
      "metadata": {
        "colab": {
          "base_uri": "https://localhost:8080/",
          "height": 35
        },
        "id": "ybdlWR_ZDE-N",
        "outputId": "01c9b7ad-3667-4788-af92-0fd3fad2403e"
      },
      "source": [
        "from dataclasses import dataclass\n",
        "@dataclass\n",
        "class computer:\n",
        "      name:str\n",
        "      size:str\n",
        "      value:int\n",
        "first=computer(\"Acer\",\"Regular\",32000)\n",
        "first.size"
      ],
      "execution_count": null,
      "outputs": [
        {
          "output_type": "execute_result",
          "data": {
            "application/vnd.google.colaboratory.intrinsic+json": {
              "type": "string"
            },
            "text/plain": [
              "'Regular'"
            ]
          },
          "metadata": {
            "tags": []
          },
          "execution_count": 33
        }
      ]
    },
    {
      "cell_type": "markdown",
      "metadata": {
        "id": "8vVImf5_GiBn"
      },
      "source": [
        "getsizeof is a IMPORTANT function."
      ]
    },
    {
      "cell_type": "code",
      "metadata": {
        "colab": {
          "base_uri": "https://localhost:8080/"
        },
        "id": "O2gOTnwLEsS7",
        "outputId": "4008c598-3d7e-4b1c-a6ba-41dbbaf31738"
      },
      "source": [
        "from collections import namedtuple\n",
        "from sys import getsizeof\n",
        "\n",
        "n1 = namedtuple(\"Shubham\",\"kaar\")(1)\n",
        "n2 = (1,2,3,4)\n",
        "\n",
        "print(getsizeof(n1))\n",
        "print(getsizeof(n2))"
      ],
      "execution_count": null,
      "outputs": [
        {
          "output_type": "stream",
          "text": [
            "64\n",
            "88\n"
          ],
          "name": "stdout"
        }
      ]
    },
    {
      "cell_type": "markdown",
      "metadata": {
        "id": "SpkLfpXwHtri"
      },
      "source": [
        "Let's create an immutable class of data structure."
      ]
    },
    {
      "cell_type": "code",
      "metadata": {
        "id": "3zh-64uOF2q5"
      },
      "source": [
        "from typing import NamedTuple\n",
        "from dataclasses import dataclass\n",
        "@dataclass\n",
        "class fighter(NamedTuple):\n",
        "  name:str\n",
        "  year:int\n",
        "  fighter:bool\n",
        "fighter(\"Kante\",1970,True) #idk why it  has occured!\n"
      ],
      "execution_count": null,
      "outputs": []
    },
    {
      "cell_type": "markdown",
      "metadata": {
        "id": "Ln1xfDRtJ5OG"
      },
      "source": [
        "Encryption using struct method to optimize data furthur so more space would be utilized."
      ]
    },
    {
      "cell_type": "code",
      "metadata": {
        "colab": {
          "base_uri": "https://localhost:8080/"
        },
        "id": "PFvaA0DNIPWM",
        "outputId": "6b3c6c11-e390-4c7d-f004-13c4303ab72b"
      },
      "source": [
        "from struct import Struct\n",
        "\n",
        "s1 = Struct(\"i?f\")\n",
        "data = s1.pack(122,True,12.23) #data must be in given order. or else it would fetch an error.\n",
        "data"
      ],
      "execution_count": null,
      "outputs": [
        {
          "output_type": "execute_result",
          "data": {
            "text/plain": [
              "b'z\\x00\\x00\\x00\\x01\\x00\\x00\\x00\\x14\\xaeCA'"
            ]
          },
          "metadata": {
            "tags": []
          },
          "execution_count": 54
        }
      ]
    },
    {
      "cell_type": "code",
      "metadata": {
        "colab": {
          "base_uri": "https://localhost:8080/"
        },
        "id": "LFCZ4rnQKUYK",
        "outputId": "d697d7f4-d17b-4993-bc01-1337e31d2acb"
      },
      "source": [
        "s1.unpack(data) #unpacking method"
      ],
      "execution_count": null,
      "outputs": [
        {
          "output_type": "execute_result",
          "data": {
            "text/plain": [
              "(122, True, 12.229999542236328)"
            ]
          },
          "metadata": {
            "tags": []
          },
          "execution_count": 56
        }
      ]
    },
    {
      "cell_type": "code",
      "metadata": {
        "colab": {
          "base_uri": "https://localhost:8080/"
        },
        "id": "Vaq35NfaKpmD",
        "outputId": "c5e12892-4cbe-4ff0-ccd9-b258c42ce7d6"
      },
      "source": [
        "from types import SimpleNamespace #shortly regarded as shortcut method.\n",
        "data1 = SimpleNamespace(name=\"Shubham\",age=23,year=\"BE\")\n",
        "data1"
      ],
      "execution_count": null,
      "outputs": [
        {
          "output_type": "execute_result",
          "data": {
            "text/plain": [
              "namespace(age=23, name='Shubham', year='BE')"
            ]
          },
          "metadata": {
            "tags": []
          },
          "execution_count": 57
        }
      ]
    },
    {
      "cell_type": "code",
      "metadata": {
        "colab": {
          "base_uri": "https://localhost:8080/"
        },
        "id": "6XJ043L7LVgk",
        "outputId": "a0093b94-3ddf-4974-c386-52971fe2f30c"
      },
      "source": [
        "set1 = {\"Shubham\",\"Nagesh\",\"Prasad\"}\n",
        "set1"
      ],
      "execution_count": null,
      "outputs": [
        {
          "output_type": "execute_result",
          "data": {
            "text/plain": [
              "{'Nagesh', 'Prasad', 'Shubham'}"
            ]
          },
          "metadata": {
            "tags": []
          },
          "execution_count": 58
        }
      ]
    },
    {
      "cell_type": "markdown",
      "metadata": {
        "id": "Q58pKA-wR6Kd"
      },
      "source": [
        "There are some interresting stuff we can do with set. With set we can perform all mathematical operations in it just like we do in math."
      ]
    },
    {
      "cell_type": "code",
      "metadata": {
        "colab": {
          "base_uri": "https://localhost:8080/"
        },
        "id": "Xo5uPuWDMXoi",
        "outputId": "6c3de776-f8d7-453d-bd31-7cd65d88b918"
      },
      "source": [
        "vowels = {\"a\",\"e\",\"i\",\"o\",\"u\"}\n",
        "\"i\" in vowels"
      ],
      "execution_count": null,
      "outputs": [
        {
          "output_type": "execute_result",
          "data": {
            "text/plain": [
              "True"
            ]
          },
          "metadata": {
            "tags": []
          },
          "execution_count": 59
        }
      ]
    },
    {
      "cell_type": "code",
      "metadata": {
        "colab": {
          "base_uri": "https://localhost:8080/"
        },
        "id": "PAoJZyIHSOsN",
        "outputId": "a63590a4-8a0f-4663-877a-d53539bc7f9a"
      },
      "source": [
        "word = set(\"shubham\")\n",
        "word.intersection(vowels)"
      ],
      "execution_count": null,
      "outputs": [
        {
          "output_type": "execute_result",
          "data": {
            "text/plain": [
              "{'a', 'u'}"
            ]
          },
          "metadata": {
            "tags": []
          },
          "execution_count": 60
        }
      ]
    },
    {
      "cell_type": "markdown",
      "metadata": {
        "id": "LUMXIG5MTs09"
      },
      "source": [
        "frozenset is immutable.We can only run query operation's on them and not manipulating one."
      ]
    },
    {
      "cell_type": "code",
      "metadata": {
        "colab": {
          "base_uri": "https://localhost:8080/"
        },
        "id": "JEgi74byS8ji",
        "outputId": "b2b1ea6d-8568-4e0b-91c8-3676f29082ee"
      },
      "source": [
        "from collections import Counter\n",
        "treasure = Counter()\n",
        "things = {\"gold\":3,\"silver\":5}\n",
        "treasure.update(things)\n",
        "treasure"
      ],
      "execution_count": null,
      "outputs": [
        {
          "output_type": "execute_result",
          "data": {
            "text/plain": [
              "Counter({'gold': 3, 'silver': 5})"
            ]
          },
          "metadata": {
            "tags": []
          },
          "execution_count": 61
        }
      ]
    },
    {
      "cell_type": "code",
      "metadata": {
        "colab": {
          "base_uri": "https://localhost:8080/"
        },
        "id": "b3pb59u0UaGA",
        "outputId": "e88bf1fa-7370-4eff-a97b-870cf95f7dc1"
      },
      "source": [
        "more_things = {\"gold\":12,\"silver\":56}\n",
        "treasure.update(more_things)\n",
        "treasure\n",
        "print(sum(treasure.values()))"
      ],
      "execution_count": null,
      "outputs": [
        {
          "output_type": "stream",
          "text": [
            "212\n"
          ],
          "name": "stdout"
        }
      ]
    },
    {
      "cell_type": "markdown",
      "metadata": {
        "id": "ZvrHMArfVOTG"
      },
      "source": [
        "STACK-LIFO\n",
        "QUEUE-FIFO"
      ]
    },
    {
      "cell_type": "code",
      "metadata": {
        "colab": {
          "base_uri": "https://localhost:8080/"
        },
        "id": "og_P8LzMUokm",
        "outputId": "d99ad4b3-964a-495f-8f2f-eddd1cba2d8a"
      },
      "source": [
        "#DFS deapth first search algorithm is an intresting algorithm to study.\n",
        "from collections import deque\n",
        "list1 = deque()\n",
        "list1.append(\"w\")\n",
        "list1.append(\"t\")\n",
        "list1.append(\"r\")\n",
        "list1.append(\"v\")\n",
        "list1.append(\"h\")\n",
        "list1"
      ],
      "execution_count": null,
      "outputs": [
        {
          "output_type": "execute_result",
          "data": {
            "text/plain": [
              "deque(['w', 't', 'r', 'v', 'h'])"
            ]
          },
          "metadata": {
            "tags": []
          },
          "execution_count": 66
        }
      ]
    },
    {
      "cell_type": "markdown",
      "metadata": {
        "id": "i_Htlp4i7WXs"
      },
      "source": [
        "Short program to conclude time and execution of given algorithm."
      ]
    },
    {
      "cell_type": "code",
      "metadata": {
        "id": "NXlzhJtOWF8_",
        "colab": {
          "base_uri": "https://localhost:8080/"
        },
        "outputId": "5c20bb2c-0727-4fac-ee3e-6a7962858cd9"
      },
      "source": [
        "import time\n",
        "start_time = time.time()\n",
        "from queue import PriorityQueue\n",
        "n = PriorityQueue()\n",
        "n.put((2,\"Code\"))\n",
        "n.put((3,\"Net\"))\n",
        "n.put((4,\"Weather\"))\n",
        "\n",
        "while not n.empty():\n",
        "  next_item = n.get()\n",
        "  print(next_item)\n",
        "\n",
        "print(\"This is time for execution\",time.time()-start_time)"
      ],
      "execution_count": null,
      "outputs": [
        {
          "output_type": "stream",
          "text": [
            "(2, 'Code')\n",
            "(3, 'Net')\n",
            "(4, 'Weather')\n",
            "This is time for execution 0.0019192695617675781\n"
          ],
          "name": "stdout"
        }
      ]
    },
    {
      "cell_type": "code",
      "metadata": {
        "colab": {
          "base_uri": "https://localhost:8080/"
        },
        "id": "q8PbA9UE6x6E",
        "outputId": "67763ba1-e6cc-4789-8574-0980b80575c0"
      },
      "source": [
        "names = [\"Shubham\",\"Ramesh\",\"Kalikar\"]\n",
        "names.reverse() #this function reverses the items in the list.Helps to make palindrome.\n",
        "names"
      ],
      "execution_count": null,
      "outputs": [
        {
          "output_type": "execute_result",
          "data": {
            "text/plain": [
              "['Kalikar', 'Ramesh', 'Shubham']"
            ]
          },
          "metadata": {
            "tags": []
          },
          "execution_count": 7
        }
      ]
    },
    {
      "cell_type": "code",
      "metadata": {
        "colab": {
          "base_uri": "https://localhost:8080/"
        },
        "id": "8PsKXQwSH1qC",
        "outputId": "c81bbf98-fd83-464e-9f2b-91cdab129a3f"
      },
      "source": [
        "#here is sample simplest program to check any string a palindrome or not!\n",
        "string = input(\"Write String/number\\n\")\n",
        "string1 = string[:1]\n",
        "if string == string1:\n",
        "  print(\"It is palindrom\")\n",
        "else:\n",
        "  print(\"It is not palindrome.\")"
      ],
      "execution_count": null,
      "outputs": [
        {
          "output_type": "stream",
          "text": [
            "Write String/number\n",
            "121\n",
            "It is not palindrome.\n"
          ],
          "name": "stdout"
        }
      ]
    },
    {
      "cell_type": "code",
      "metadata": {
        "colab": {
          "base_uri": "https://localhost:8080/"
        },
        "id": "E-IxQ-DCIa3F",
        "outputId": "86f8351f-0e29-4cb2-d473-c6077cf504de"
      },
      "source": [
        "list1 = [121]\n",
        "list1[:1]"
      ],
      "execution_count": null,
      "outputs": [
        {
          "output_type": "execute_result",
          "data": {
            "text/plain": [
              "[121]"
            ]
          },
          "metadata": {
            "tags": []
          },
          "execution_count": 16
        }
      ]
    },
    {
      "cell_type": "code",
      "metadata": {
        "id": "Gsnti_dpIzfa"
      },
      "source": [
        ""
      ],
      "execution_count": null,
      "outputs": []
    }
  ]
}